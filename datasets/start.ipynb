{
 "cells": [
  {
   "cell_type": "code",
   "execution_count": 13,
   "metadata": {},
   "outputs": [],
   "source": [
    "import numpy as np\n",
    "import pandas as pd"
   ]
  },
  {
   "cell_type": "code",
   "execution_count": null,
   "metadata": {},
   "outputs": [],
   "source": [
    "# parameters of the genetic algorithm\n",
    "\n",
    "generation_size = 10\n",
    "number_of_generations = 10\n"
   ]
  },
  {
   "cell_type": "code",
   "execution_count": 15,
   "metadata": {},
   "outputs": [
    {
     "data": {
      "text/html": [
       "<div>\n",
       "<style scoped>\n",
       "    .dataframe tbody tr th:only-of-type {\n",
       "        vertical-align: middle;\n",
       "    }\n",
       "\n",
       "    .dataframe tbody tr th {\n",
       "        vertical-align: top;\n",
       "    }\n",
       "\n",
       "    .dataframe thead th {\n",
       "        text-align: right;\n",
       "    }\n",
       "</style>\n",
       "<table border=\"1\" class=\"dataframe\">\n",
       "  <thead>\n",
       "    <tr style=\"text-align: right;\">\n",
       "      <th></th>\n",
       "      <th>0</th>\n",
       "      <th>1</th>\n",
       "      <th>2</th>\n",
       "      <th>3</th>\n",
       "      <th>4</th>\n",
       "    </tr>\n",
       "  </thead>\n",
       "  <tbody>\n",
       "    <tr>\n",
       "      <th>0</th>\n",
       "      <td>3</td>\n",
       "      <td>2</td>\n",
       "      <td>1</td>\n",
       "      <td>5</td>\n",
       "      <td>3</td>\n",
       "    </tr>\n",
       "    <tr>\n",
       "      <th>1</th>\n",
       "      <td>5</td>\n",
       "      <td>2</td>\n",
       "      <td>4</td>\n",
       "      <td>2</td>\n",
       "      <td>2</td>\n",
       "    </tr>\n",
       "    <tr>\n",
       "      <th>2</th>\n",
       "      <td>4</td>\n",
       "      <td>3</td>\n",
       "      <td>1</td>\n",
       "      <td>2</td>\n",
       "      <td>4</td>\n",
       "    </tr>\n",
       "    <tr>\n",
       "      <th>3</th>\n",
       "      <td>4</td>\n",
       "      <td>2</td>\n",
       "      <td>2</td>\n",
       "      <td>1</td>\n",
       "      <td>1</td>\n",
       "    </tr>\n",
       "    <tr>\n",
       "      <th>4</th>\n",
       "      <td>4</td>\n",
       "      <td>3</td>\n",
       "      <td>4</td>\n",
       "      <td>1</td>\n",
       "      <td>5</td>\n",
       "    </tr>\n",
       "  </tbody>\n",
       "</table>\n",
       "</div>"
      ],
      "text/plain": [
       "   0  1  2  3  4\n",
       "0  3  2  1  5  3\n",
       "1  5  2  4  2  2\n",
       "2  4  3  1  2  4\n",
       "3  4  2  2  1  1\n",
       "4  4  3  4  1  5"
      ]
     },
     "execution_count": 15,
     "metadata": {},
     "output_type": "execute_result"
    }
   ],
   "source": [
    "# FUNCTION TO READ THE DATA\n",
    "import json\n",
    "\n",
    "def parse(path):\n",
    "    with open(path) as f:\n",
    "        data = json.load(f)\n",
    "        num_papers = data[\"num_papers\"]\n",
    "        num_reviewers = data[\"num_reviewers\"]\n",
    "        reviewer_capacity = data[\"reviewer_capacity\"]\n",
    "        min_reviews_per_paper = data[\"min_reviews_per_paper\"]\n",
    "        max_reviews_per_paper = data[\"max_reviews_per_paper\"]\n",
    "        preferences = pd.DataFrame(data[\"preferences\"])\n",
    "        friendships = pd.DataFrame(data[\"friendships\"])\n",
    "        authorship = pd.DataFrame(data[\"authorship\"])\n",
    "        return (num_papers, num_reviewers, reviewer_capacity,\n",
    "            min_reviews_per_paper, max_reviews_per_paper,\n",
    "            preferences, friendships, authorship)\n",
    "        \n",
    "\n",
    "(num_papers, num_reviewers, reviewer_capacity,min_reviews_per_paper, max_reviews_per_paper,\n",
    "            preferences, friendships, authorship) = parse(\"easy_dataset_1.json\")\n",
    "preferences"
   ]
  },
  {
   "cell_type": "code",
   "execution_count": null,
   "metadata": {},
   "outputs": [
    {
     "name": "stdout",
     "output_type": "stream",
     "text": [
      "(10, 5, 5)\n"
     ]
    }
   ],
   "source": [
    "# representation of the solutions\n",
    "representation_solutions = np.empty([number_of_generations, generation_size , num_reviewers, num_papers])\n",
    "\n"
   ]
  },
  {
   "cell_type": "code",
   "execution_count": null,
   "metadata": {},
   "outputs": [],
   "source": [
    "# fittness function\n",
    "\n",
    "#TODO gene_type of GA has to be a mar´trix with only 0 and 1\n",
    "\n",
    "def fitness_function(ga_instance, solution, solution_idx):\n",
    "    return compute_preference_value - compute_penalty\n",
    "\n",
    "def compute_preference_value(solution):\n",
    "    pref_val = 0\n",
    "\n",
    "    for reviewer in range(solution.shape[0]):\n",
    "        for paper in range(solution.shape[1]):\n",
    "            if solution[reviewer, paper] == 1:\n",
    "                pref_val = pref_val + preferences[reviewer, paper]\n",
    "\n",
    "    return pref_val\n",
    "\n",
    "def compute_penalty(solution):\n",
    "\n",
    "    rev_cap = 0\n",
    "    for reviewer in range(solution.shape[0]):\n",
    "        if np.sum(solution[reviewer, :]) > reviewer_capacity:\n",
    "            rev_cap = rev_cap + 10\n",
    "\n",
    "    min_rev_paper = 0\n",
    "    for paper in range(solution.shape[1]):\n",
    "        if np.sum(solution[:, paper]) > min_reviews_per_paper:\n",
    "            min_rev_paper = min_rev_paper + 10\n",
    "\n",
    "    max_rev_paper = 0\n",
    "    for paper in range(solution.shape[1]):\n",
    "        if np.sum(solution[:, paper]) > max_reviews_per_paper:\n",
    "            max_rev_paper = max_rev_paper + 10\n",
    "\n",
    "    #TODO frindship, authhor, and so on\n",
    "\n",
    "    return rev_cap + min_rev_paper + max_rev_paper\n",
    "\n",
    "\n",
    "    \n",
    "    "
   ]
  }
 ],
 "metadata": {
  "kernelspec": {
   "display_name": "intelsys",
   "language": "python",
   "name": "python3"
  },
  "language_info": {
   "codemirror_mode": {
    "name": "ipython",
    "version": 3
   },
   "file_extension": ".py",
   "mimetype": "text/x-python",
   "name": "python",
   "nbconvert_exporter": "python",
   "pygments_lexer": "ipython3",
   "version": "3.9.20"
  }
 },
 "nbformat": 4,
 "nbformat_minor": 2
}
