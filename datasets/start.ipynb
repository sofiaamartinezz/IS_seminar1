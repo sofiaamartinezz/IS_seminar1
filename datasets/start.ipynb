{
 "cells": [
  {
   "cell_type": "code",
   "execution_count": 3,
   "metadata": {},
   "outputs": [],
   "source": [
    "import numpy as np\n",
    "import pandas as pd\n",
    "import pygad\n",
    "import matplotlib.pyplot as plt\n"
   ]
  },
  {
   "cell_type": "code",
   "execution_count": 4,
   "metadata": {},
   "outputs": [
    {
     "data": {
      "text/plain": [
       "array([[4, 5, 5, 1, 2, 2, 2, 1, 5, 4],\n",
       "       [2, 5, 5, 5, 1, 3, 2, 4, 5, 4],\n",
       "       [2, 1, 4, 2, 5, 1, 3, 3, 5, 1],\n",
       "       [2, 4, 3, 1, 5, 2, 3, 2, 1, 1],\n",
       "       [2, 1, 4, 3, 3, 1, 3, 3, 5, 3],\n",
       "       [0, 2, 4, 2, 3, 3, 5, 5, 5, 4],\n",
       "       [5, 1, 3, 2, 3, 0, 1, 0, 5, 4]])"
      ]
     },
     "execution_count": 4,
     "metadata": {},
     "output_type": "execute_result"
    }
   ],
   "source": [
    "# FUNCTION TO READ THE DATA\n",
    "import json\n",
    "\n",
    "def parse(path):\n",
    "    with open(path) as f:\n",
    "        data = json.load(f)\n",
    "        preferences = np.array(data[\"preferences\"])\n",
    "        friendships = np.array(data[\"friendships\"])\n",
    "        authorship = np.array(data[\"authorship\"])\n",
    "\n",
    "        # giving the info as a dictionary\n",
    "        return {\n",
    "            \"num_papers\": data[\"num_papers\"],\n",
    "            \"num_reviewers\": data[\"num_reviewers\"],\n",
    "            \"reviewer_capacity\": data[\"reviewer_capacity\"],\n",
    "            \"min_reviews_per_paper\": data[\"min_reviews_per_paper\"],\n",
    "            \"max_reviews_per_paper\": data[\"max_reviews_per_paper\"],\n",
    "            \"preferences\": preferences,\n",
    "            \"friendships\": friendships,\n",
    "            \"authorship\": authorship\n",
    "        }\n",
    "#reading the data        \n",
    "data = parse(\"medium_dataset_1.json\")\n",
    "\n",
    "#saving the data in variables\n",
    "num_papers = data[\"num_papers\"]\n",
    "num_reviewers = data[\"num_reviewers\"]\n",
    "reviewer_capacity = data[\"reviewer_capacity\"]\n",
    "min_reviews_per_paper = data[\"min_reviews_per_paper\"]\n",
    "max_reviews_per_paper = data[\"max_reviews_per_paper\"],\n",
    "preferences = data[\"preferences\"]\n",
    "friendships = data[\"friendships\"]\n",
    "authorship = data[\"authorship\"] \n",
    "\n",
    "preferences"
   ]
  },
  {
   "cell_type": "code",
   "execution_count": 5,
   "metadata": {},
   "outputs": [],
   "source": [
    "# parameters of the genetic algorithm\n",
    "number_of_generations = 50\n",
    "num_parents_mating = 5\n",
    "sol_per_pop = 10\n",
    "generation_size = 10"
   ]
  },
  {
   "cell_type": "code",
   "execution_count": 6,
   "metadata": {},
   "outputs": [],
   "source": [
    "# representation of the solutions\n",
    "representation_solutions = np.empty([number_of_generations, generation_size , num_reviewers, num_papers])"
   ]
  },
  {
   "cell_type": "code",
   "execution_count": 7,
   "metadata": {},
   "outputs": [],
   "source": [
    "# fittness function\n",
    "def fitness_function(ga_instance, solution, solution_idx):\n",
    "    solution_matrix = solution.reshape((num_reviewers, num_papers))\n",
    "    return compute_preference_value(solution_matrix) - compute_penalty(solution_matrix)\n",
    "\n",
    "def compute_preference_value(solution):\n",
    "    pref_val = 0\n",
    "\n",
    "    for reviewer in range(solution.shape[0]):\n",
    "        for paper in range(solution.shape[1]):\n",
    "            if solution[reviewer, paper] == 1:\n",
    "                pref_val = pref_val + preferences[reviewer, paper]\n",
    "\n",
    "    return pref_val\n",
    "\n",
    "def compute_penalty(solution):\n",
    "\n",
    "    penalty = 0\n",
    "\n",
    "    # penalty for reviewer capacity\n",
    "    for reviewer in range(solution.shape[0]):\n",
    "        if np.sum(solution[reviewer, :]) > reviewer_capacity:\n",
    "            penalty += 1 #low weight for capacity violations\n",
    "\n",
    "    #penalty for the number of reviews in a paper\n",
    "    for paper in range(solution.shape[1]):\n",
    "        if np.sum(solution[:, paper]) > min_reviews_per_paper:\n",
    "            penalty += 2 #moderate weight for not meeting minimum reviews\n",
    "        elif np.sum(solution[:, paper]) > max_reviews_per_paper:\n",
    "            penalty += 2 #moderate weight for not meeting minimum reviews\n",
    "\n",
    "    #penalty for friendship using matricial operations\n",
    "    for reviewer1 in range(solution.shape[0]):\n",
    "        for reviewer2 in range(solution.shape[0]):\n",
    "            if friendships[reviewer1,reviewer2] == 1: #they are friends\n",
    "                for paper in range(solution.shape[1]):\n",
    "                    if (solution[reviewer1,paper] == 1) and (solution[reviewer2,paper] == 1): #check if they review the same paper\n",
    "                        penalty += 5 #high weight for friendship conflicts \n",
    "\n",
    "    #penalty for authory\n",
    "    for reviewer in range(solution.shape[0]):\n",
    "        for paper in range(solution.shape[1]):\n",
    "            if solution[reviewer,paper] == 1 and (authorship[reviewer, paper]==1):\n",
    "                penalty += 10 #highest weight for authorship conflicts\n",
    "\n",
    "    return penalty"
   ]
  },
  {
   "cell_type": "code",
   "execution_count": 8,
   "metadata": {},
   "outputs": [
    {
     "name": "stdout",
     "output_type": "stream",
     "text": [
      "Solution:\n",
      "[[1 1 0 1 1 1 0 0 1 0]\n",
      " [1 0 1 0 1 0 1 0 0 1]\n",
      " [0 0 1 1 1 0 0 1 0 0]\n",
      " [0 1 0 0 0 0 0 0 1 0]\n",
      " [0 1 1 1 1 0 0 0 0 1]\n",
      " [1 1 0 0 1 1 0 1 1 1]\n",
      " [1 0 1 0 0 1 0 0 0 1]]\n",
      "Penalty:  202\n"
     ]
    }
   ],
   "source": [
    "#try the function\n",
    "solution = np.random.randint(2, size=(num_reviewers, num_papers))\n",
    "\n",
    "print(\"Solution:\")\n",
    "print(solution)\n",
    "print(\"Penalty: \",compute_penalty(solution))"
   ]
  },
  {
   "cell_type": "code",
   "execution_count": 9,
   "metadata": {},
   "outputs": [
    {
     "name": "stdout",
     "output_type": "stream",
     "text": [
      "Best solution: \n",
      "[[0. 1. 0. 0. 0. 0. 1. 0. 0. 0.]\n",
      " [0. 0. 1. 1. 0. 1. 0. 0. 0. 0.]\n",
      " [1. 0. 0. 0. 0. 1. 0. 1. 0. 0.]\n",
      " [0. 1. 1. 0. 1. 0. 0. 0. 1. 1.]\n",
      " [0. 0. 0. 0. 0. 0. 0. 0. 1. 0.]\n",
      " [0. 1. 1. 1. 0. 0. 1. 0. 0. 1.]\n",
      " [1. 0. 0. 0. 0. 0. 0. 0. 1. 0.]]\n",
      "Best fitness:  52\n"
     ]
    },
    {
     "name": "stderr",
     "output_type": "stream",
     "text": [
      "c:\\Users\\Usuario\\anaconda3\\lib\\site-packages\\pygad\\pygad.py:1139: UserWarning: The 'delay_after_gen' parameter is deprecated starting from PyGAD 3.3.0. To delay or pause the evolution after each generation, assign a callback function/method to the 'on_generation' parameter to adds some time delay.\n",
      "  warnings.warn(\"The 'delay_after_gen' parameter is deprecated starting from PyGAD 3.3.0. To delay or pause the evolution after each generation, assign a callback function/method to the 'on_generation' parameter to adds some time delay.\")\n"
     ]
    }
   ],
   "source": [
    "#First GA\n",
    "ga_instance = pygad.GA(fitness_func = fitness_function,\n",
    "                       num_generations = number_of_generations,\n",
    "                       num_parents_mating = num_parents_mating,\n",
    "                       num_genes = num_reviewers * num_papers,\n",
    "                       gene_space = [0,1], #matrix with 0 and 1\n",
    "                       sol_per_pop = sol_per_pop\n",
    "                       )\n",
    "ga_instance.run()\n",
    "\n",
    "solution, solution_fitness,  solution_idx = ga_instance.best_solution()\n",
    "solution_matrix = solution.reshape((num_reviewers, num_papers))\n",
    "print(\"Best solution: \")\n",
    "print(solution_matrix)\n",
    "print(\"Best fitness: \", solution_fitness)"
   ]
  },
  {
   "cell_type": "code",
   "execution_count": 10,
   "metadata": {},
   "outputs": [
    {
     "data": {
      "image/png": "[encoded data removed]",
      "text/plain": [
       "<Figure size 640x480 with 1 Axes>"
      ]
     },
     "metadata": {},
     "output_type": "display_data"
    }
   ],
   "source": [
    "# Obtain the best fitness per generation\n",
    "fitness_per_generation = ga_instance.best_solutions_fitness\n",
    "\n",
    "plt.plot(fitness_per_generation)\n",
    "plt.title(\"Evolution\")\n",
    "plt.xlabel(\"Generation\")\n",
    "plt.ylabel(\"Best fitness\")\n",
    "plt.grid()\n",
    "plt.show()"
   ]
  },
  {
   "cell_type": "code",
   "execution_count": 11,
   "metadata": {},
   "outputs": [],
   "source": [
    "#Crossover funtion\n",
    "def custom_crossover(parents, child_size, ga_instance):\n",
    "    child = np.empty(child_size)\n",
    "    \n",
    "    for i in range(child_size[0]):\n",
    "        #select two parents randomly\n",
    "        parent1 = i % parents.shape[0]\n",
    "        parent2 = (i+1) % parents.shape[0]\n",
    "\n",
    "        # crossing parents\n",
    "        point = np.random.randint(1,parents.shape[1]-1)\n",
    "        child[i, :point] = parents[parent1, :point]\n",
    "        child[i,point:] = parents[parent2, point:]\n",
    "\n",
    "    return child\n"
   ]
  },
  {
   "cell_type": "code",
   "execution_count": 12,
   "metadata": {},
   "outputs": [
    {
     "name": "stdout",
     "output_type": "stream",
     "text": [
      "Best solution: \n",
      "[[1. 0. 0. 1. 1. 0. 1. 0. 0. 0.]\n",
      " [0. 1. 1. 0. 0. 1. 0. 0. 0. 0.]\n",
      " [0. 1. 0. 0. 0. 0. 0. 1. 0. 0.]\n",
      " [0. 0. 1. 0. 1. 1. 0. 0. 0. 0.]\n",
      " [0. 0. 0. 0. 1. 0. 1. 0. 0. 0.]\n",
      " [1. 0. 0. 0. 0. 1. 1. 0. 1. 0.]\n",
      " [0. 0. 0. 0. 1. 0. 1. 0. 1. 1.]]\n",
      "Best fitness:  44\n"
     ]
    }
   ],
   "source": [
    "#GA with custom crossover\n",
    "ga_instance = pygad.GA(fitness_func = fitness_function,\n",
    "                       num_generations = number_of_generations,\n",
    "                       num_parents_mating = num_parents_mating,\n",
    "                       num_genes = num_reviewers * num_papers,\n",
    "                       gene_space = [0,1],\n",
    "                       sol_per_pop = sol_per_pop,\n",
    "                       crossover_type = custom_crossover\n",
    "                       )\n",
    "ga_instance.run()\n",
    "\n",
    "solution, solution_fitness,  solution_idx = ga_instance.best_solution()\n",
    "solution_matrix = solution.reshape((num_reviewers, num_papers))\n",
    "print(\"Best solution: \")\n",
    "print(solution_matrix)\n",
    "print(\"Best fitness: \", solution_fitness)"
   ]
  },
  {
   "cell_type": "code",
   "execution_count": 13,
   "metadata": {},
   "outputs": [
    {
     "data": {
      "image/png": "[encoded data removed]",
      "text/plain": [
       "<Figure size 640x480 with 1 Axes>"
      ]
     },
     "metadata": {},
     "output_type": "display_data"
    }
   ],
   "source": [
    "# Obtain the best fitness per generation\n",
    "fitness_per_generation = ga_instance.best_solutions_fitness\n",
    "\n",
    "plt.plot(fitness_per_generation)\n",
    "plt.title(\"Evolution\")\n",
    "plt.xlabel(\"Generation\")\n",
    "plt.ylabel(\"Best fitness\")\n",
    "plt.grid()\n",
    "plt.show()"
   ]
  },
  {
   "cell_type": "code",
   "execution_count": null,
   "metadata": {},
   "outputs": [],
   "source": [
    "def custom_mutation(solution, ga_instance):\n",
    "    custom_rate = 0.1\n",
    "    \n",
    "    for i in range(len(solution)):\n",
    "        for j in range(len(solution[i])):\n",
    "            if np.random.rand() < custom_rate:          \n",
    "                solution_fitness = fitness_function(ga_instance, solution[i],0)\n",
    "\n",
    "                solution[i][j] = 1 - solution[i][j]\n",
    "                muted_solution_fitness = fitness_function(ga_instance, solution[i],0)\n",
    "\n",
    "                if muted_solution_fitness < solution_fitness:\n",
    "                    solution[i][j] = 1 - solution[i][j]\n",
    "    return solution\n"
   ]
  },
  {
   "cell_type": "code",
   "execution_count": 34,
   "metadata": {},
   "outputs": [
    {
     "name": "stderr",
     "output_type": "stream",
     "text": [
      "c:\\Users\\Usuario\\anaconda3\\lib\\site-packages\\pygad\\pygad.py:1139: UserWarning: The 'delay_after_gen' parameter is deprecated starting from PyGAD 3.3.0. To delay or pause the evolution after each generation, assign a callback function/method to the 'on_generation' parameter to adds some time delay.\n",
      "  warnings.warn(\"The 'delay_after_gen' parameter is deprecated starting from PyGAD 3.3.0. To delay or pause the evolution after each generation, assign a callback function/method to the 'on_generation' parameter to adds some time delay.\")\n"
     ]
    },
    {
     "name": "stdout",
     "output_type": "stream",
     "text": [
      "Best solution: \n",
      "[[0. 0. 0. 0. 0. 0. 0. 0. 0. 0.]\n",
      " [1. 1. 0. 1. 0. 0. 1. 0. 1. 0.]\n",
      " [0. 1. 0. 0. 1. 0. 1. 0. 1. 0.]\n",
      " [0. 0. 1. 0. 0. 1. 0. 1. 0. 0.]\n",
      " [0. 0. 1. 0. 0. 1. 0. 1. 0. 1.]\n",
      " [1. 1. 1. 1. 0. 1. 1. 1. 0. 1.]\n",
      " [1. 0. 0. 1. 0. 0. 0. 0. 0. 1.]]\n",
      "Best fitness:  86\n"
     ]
    }
   ],
   "source": [
    "#GA with custom crossover and mutation\n",
    "ga_instance = pygad.GA(fitness_func = fitness_function,\n",
    "                       num_generations = number_of_generations,\n",
    "                       num_parents_mating = num_parents_mating,\n",
    "                       num_genes = num_reviewers * num_papers,\n",
    "                       gene_space = [0,1],\n",
    "                       sol_per_pop = sol_per_pop,\n",
    "                       crossover_type=custom_crossover,\n",
    "                       mutation_type=custom_mutation                     \n",
    "                    )\n",
    "ga_instance.run()\n",
    "\n",
    "solution, solution_fitness,  solution_idx = ga_instance.best_solution()\n",
    "solution_matrix = solution.reshape((num_reviewers, num_papers))\n",
    "print(\"Best solution: \")\n",
    "print(solution_matrix)\n",
    "print(\"Best fitness: \", solution_fitness)"
   ]
  },
  {
   "cell_type": "code",
   "execution_count": 24,
   "metadata": {},
   "outputs": [
    {
     "data": {
      "image/png": "[encoded data removed]",
      "text/plain": [
       "<Figure size 640x480 with 1 Axes>"
      ]
     },
     "metadata": {},
     "output_type": "display_data"
    }
   ],
   "source": [
    "# Obtain the best fitness per generation\n",
    "fitness_per_generation = ga_instance.best_solutions_fitness\n",
    "\n",
    "plt.plot(fitness_per_generation)\n",
    "plt.title(\"Evolution\")\n",
    "plt.xlabel(\"Generation\")\n",
    "plt.ylabel(\"Best fitness\")\n",
    "plt.grid()\n",
    "plt.show()"
   ]
  },
  {
   "cell_type": "code",
   "execution_count": null,
   "metadata": {},
   "outputs": [],
   "source": []
  }
 ],
 "metadata": {
  "kernelspec": {
   "display_name": "base",
   "language": "python",
   "name": "python3"
  },
  "language_info": {
   "codemirror_mode": {
    "name": "ipython",
    "version": 3
   },
   "file_extension": ".py",
   "mimetype": "text/x-python",
   "name": "python",
   "nbconvert_exporter": "python",
   "pygments_lexer": "ipython3",
   "version": "3.9.13"
  }
 },
 "nbformat": 4,
 "nbformat_minor": 2
}
